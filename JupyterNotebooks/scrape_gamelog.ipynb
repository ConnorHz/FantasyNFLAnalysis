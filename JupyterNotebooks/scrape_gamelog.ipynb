{
 "metadata": {
  "language_info": {
   "codemirror_mode": {
    "name": "ipython",
    "version": 3
   },
   "file_extension": ".py",
   "mimetype": "text/x-python",
   "name": "python",
   "nbconvert_exporter": "python",
   "pygments_lexer": "ipython3",
   "version": "3.8.3-final"
  },
  "orig_nbformat": 2,
  "kernelspec": {
   "name": "Python 3.8.3 64-bit ('Connor': virtualenv)",
   "display_name": "Python 3.8.3 64-bit ('Connor': virtualenv)",
   "metadata": {
    "interpreter": {
     "hash": "4daf9c02b5623c0360fcfe1d6dda508d767b2df27b9fea1946db53939aeb33a9"
    }
   }
  }
 },
 "nbformat": 4,
 "nbformat_minor": 2,
 "cells": [
  {
   "cell_type": "code",
   "execution_count": 3,
   "metadata": {},
   "outputs": [],
   "source": [
    "import pandas as pd\n",
    "import os\n",
    "import csv"
   ]
  },
  {
   "cell_type": "code",
   "execution_count": 43,
   "metadata": {},
   "outputs": [],
   "source": [
    "def NormalizeStat(stat, min_, max_):\n",
    "    return (stat - min_) / (max_ - min_)"
   ]
  },
  {
   "cell_type": "code",
   "execution_count": 36,
   "metadata": {},
   "outputs": [
    {
     "output_type": "execute_result",
     "data": {
      "text/plain": [
       "     player_id        date  week team_x location opponent result  started  \\\n",
       "year                                                                        \n",
       "2017  KamaAl00  2017-09-11     1    NOR     Away      MIN      L    False   \n",
       "2017  KamaAl00  2017-09-17     2    NOR     Home      NWE      L    False   \n",
       "2017  KamaAl00  2017-09-24     3    NOR     Away      CAR      W    False   \n",
       "2017  KamaAl00  2017-10-01     4    NOR     Away      MIA      W    False   \n",
       "2017  KamaAl00  2017-10-15     6    NOR     Home      DET      W     True   \n",
       "\n",
       "      rushing_attempts  rushing_yards  ...  receptions  receiving_yards  \\\n",
       "year                                   ...                                \n",
       "2017                 7             18  ...           4               20   \n",
       "2017                 1              3  ...           3               51   \n",
       "2017                 2             37  ...           3                5   \n",
       "2017                 5             25  ...          10               71   \n",
       "2017                10             75  ...           3               12   \n",
       "\n",
       "      receiving_touchdowns  conversions  fumbles_lost  fumble_touchdowns  \\\n",
       "year                                                                       \n",
       "2017                     0            0             0                  0   \n",
       "2017                     0            0             0                  0   \n",
       "2017                     0            0             0                  0   \n",
       "2017                     1            0             0                  0   \n",
       "2017                     0            0             0                  0   \n",
       "\n",
       "              name              team_y team_abbr position  \n",
       "year                                                       \n",
       "2017  Alvin Kamara  New Orleans Saints       NOR       RB  \n",
       "2017  Alvin Kamara  New Orleans Saints       NOR       RB  \n",
       "2017  Alvin Kamara  New Orleans Saints       NOR       RB  \n",
       "2017  Alvin Kamara  New Orleans Saints       NOR       RB  \n",
       "2017  Alvin Kamara  New Orleans Saints       NOR       RB  \n",
       "\n",
       "[5 rows x 22 columns]"
      ],
      "text/html": "<div>\n<style scoped>\n    .dataframe tbody tr th:only-of-type {\n        vertical-align: middle;\n    }\n\n    .dataframe tbody tr th {\n        vertical-align: top;\n    }\n\n    .dataframe thead th {\n        text-align: right;\n    }\n</style>\n<table border=\"1\" class=\"dataframe\">\n  <thead>\n    <tr style=\"text-align: right;\">\n      <th></th>\n      <th>player_id</th>\n      <th>date</th>\n      <th>week</th>\n      <th>team_x</th>\n      <th>location</th>\n      <th>opponent</th>\n      <th>result</th>\n      <th>started</th>\n      <th>rushing_attempts</th>\n      <th>rushing_yards</th>\n      <th>...</th>\n      <th>receptions</th>\n      <th>receiving_yards</th>\n      <th>receiving_touchdowns</th>\n      <th>conversions</th>\n      <th>fumbles_lost</th>\n      <th>fumble_touchdowns</th>\n      <th>name</th>\n      <th>team_y</th>\n      <th>team_abbr</th>\n      <th>position</th>\n    </tr>\n    <tr>\n      <th>year</th>\n      <th></th>\n      <th></th>\n      <th></th>\n      <th></th>\n      <th></th>\n      <th></th>\n      <th></th>\n      <th></th>\n      <th></th>\n      <th></th>\n      <th></th>\n      <th></th>\n      <th></th>\n      <th></th>\n      <th></th>\n      <th></th>\n      <th></th>\n      <th></th>\n      <th></th>\n      <th></th>\n      <th></th>\n    </tr>\n  </thead>\n  <tbody>\n    <tr>\n      <th>2017</th>\n      <td>KamaAl00</td>\n      <td>2017-09-11</td>\n      <td>1</td>\n      <td>NOR</td>\n      <td>Away</td>\n      <td>MIN</td>\n      <td>L</td>\n      <td>False</td>\n      <td>7</td>\n      <td>18</td>\n      <td>...</td>\n      <td>4</td>\n      <td>20</td>\n      <td>0</td>\n      <td>0</td>\n      <td>0</td>\n      <td>0</td>\n      <td>Alvin Kamara</td>\n      <td>New Orleans Saints</td>\n      <td>NOR</td>\n      <td>RB</td>\n    </tr>\n    <tr>\n      <th>2017</th>\n      <td>KamaAl00</td>\n      <td>2017-09-17</td>\n      <td>2</td>\n      <td>NOR</td>\n      <td>Home</td>\n      <td>NWE</td>\n      <td>L</td>\n      <td>False</td>\n      <td>1</td>\n      <td>3</td>\n      <td>...</td>\n      <td>3</td>\n      <td>51</td>\n      <td>0</td>\n      <td>0</td>\n      <td>0</td>\n      <td>0</td>\n      <td>Alvin Kamara</td>\n      <td>New Orleans Saints</td>\n      <td>NOR</td>\n      <td>RB</td>\n    </tr>\n    <tr>\n      <th>2017</th>\n      <td>KamaAl00</td>\n      <td>2017-09-24</td>\n      <td>3</td>\n      <td>NOR</td>\n      <td>Away</td>\n      <td>CAR</td>\n      <td>W</td>\n      <td>False</td>\n      <td>2</td>\n      <td>37</td>\n      <td>...</td>\n      <td>3</td>\n      <td>5</td>\n      <td>0</td>\n      <td>0</td>\n      <td>0</td>\n      <td>0</td>\n      <td>Alvin Kamara</td>\n      <td>New Orleans Saints</td>\n      <td>NOR</td>\n      <td>RB</td>\n    </tr>\n    <tr>\n      <th>2017</th>\n      <td>KamaAl00</td>\n      <td>2017-10-01</td>\n      <td>4</td>\n      <td>NOR</td>\n      <td>Away</td>\n      <td>MIA</td>\n      <td>W</td>\n      <td>False</td>\n      <td>5</td>\n      <td>25</td>\n      <td>...</td>\n      <td>10</td>\n      <td>71</td>\n      <td>1</td>\n      <td>0</td>\n      <td>0</td>\n      <td>0</td>\n      <td>Alvin Kamara</td>\n      <td>New Orleans Saints</td>\n      <td>NOR</td>\n      <td>RB</td>\n    </tr>\n    <tr>\n      <th>2017</th>\n      <td>KamaAl00</td>\n      <td>2017-10-15</td>\n      <td>6</td>\n      <td>NOR</td>\n      <td>Home</td>\n      <td>DET</td>\n      <td>W</td>\n      <td>True</td>\n      <td>10</td>\n      <td>75</td>\n      <td>...</td>\n      <td>3</td>\n      <td>12</td>\n      <td>0</td>\n      <td>0</td>\n      <td>0</td>\n      <td>0</td>\n      <td>Alvin Kamara</td>\n      <td>New Orleans Saints</td>\n      <td>NOR</td>\n      <td>RB</td>\n    </tr>\n  </tbody>\n</table>\n<p>5 rows × 22 columns</p>\n</div>"
     },
     "metadata": {},
     "execution_count": 36
    }
   ],
   "source": [
    "df_game_log = pd.read_csv(os.path.join(\"Resources\", \"game_logs.csv\"))\n",
    "df_players = pd.read_csv(os.path.join(\"Resources\", \"players.csv\"))\n",
    "\n",
    "df_players = df_players.rename(columns={'id':'player_id'})\n",
    "\n",
    "df_player_game_logs = df_game_log.merge(df_players, how='inner', on='player_id')\n",
    "\n",
    "df_player_game_logs = df_player_game_logs.set_index('year')\n",
    "\n",
    "df_player_game_logs.head()"
   ]
  },
  {
   "cell_type": "code",
   "execution_count": 46,
   "metadata": {},
   "outputs": [
    {
     "output_type": "stream",
     "name": "stdout",
     "text": [
      "name           year\nDalvin Cook    2020    489\nJosh Jacobs    2020    377\nDerrick Henry  2020    376\nTodd Gurley    2020    375\nAaron Jones    2020    374\nName: rushing_yards, dtype: int64 name             year\nDalvin Cook      2020    5.177893\nJosh Jacobs      2020    3.930915\nTodd Gurley      2020    3.920553\nEzekiel Elliott  2020    3.863558\nDerrick Henry    2020    3.530225\nAaron Jones      2020    3.519862\nNick Chubb       2020    3.317789\nKareem Hunt      2020    3.108808\nAlvin Kamara     2020    3.100173\nJames Robinson   2020    3.036269\nName: overall_ranking, dtype: float64\n"
     ]
    }
   ],
   "source": [
    "df_2020_running_backs = df_player_game_logs.loc[df_player_game_logs.index.isin([2020]) & (df_player_game_logs.position == 'RB')]\n",
    "\n",
    "df_2020_running_backs['rushing_yard_rank'] = [NormalizeStat(r, min(df_2020_running_backs['rushing_yards']), max(df_2020_running_backs['rushing_yards'])) for r in df_2020_running_backs['rushing_yards']]\n",
    "df_2020_running_backs['rushing_td_rank'] = [NormalizeStat(r, min(df_2020_running_backs['rushing_touchdowns']), max(df_2020_running_backs['rushing_touchdowns'])) for r in df_2020_running_backs['rushing_touchdowns']]\n",
    "\n",
    "df_2020_running_backs.eval(\"overall_ranking = rushing_yard_rank + rushing_td_rank\", inplace=True)\n",
    "\n",
    "df_grouped_game_log = df_2020_running_backs.groupby(['name', 'year'])\n",
    "\n",
    "print(df_grouped_game_log['rushing_yards'].sum().nlargest(5),\n",
    "df_grouped_game_log['overall_ranking'].sum().nlargest(10))"
   ]
  },
  {
   "cell_type": "code",
   "execution_count": 68,
   "metadata": {},
   "outputs": [
    {
     "output_type": "stream",
     "name": "stdout",
     "text": [
      "name\nChase Claypool         1.333333\nJuJu Smith-Schuster    1.000000\nDiontae Johnson        0.333333\nJames Washington       0.333333\nRay-Ray McCloud        0.000000\nName: receiving_touchdown_rank, dtype: float64\n"
     ]
    }
   ],
   "source": [
    "df_2020_pit_wide_receivers = df_player_game_logs.loc[df_player_game_logs.index.isin([2020]) & (df_player_game_logs.position == 'WR') & (df_player_game_logs.team_abbr == 'PIT')]\n",
    "\n",
    "df_2020_pit_wide_receivers['receiving_touchdown_rank'] = [NormalizeStat(r, min(df_2020_pit_wide_receivers['receiving_touchdowns']), max(df_2020_pit_wide_receivers['receiving_touchdowns'])) for r in df_2020_pit_wide_receivers['receiving_touchdowns']]\n",
    "\n",
    "df_2020_pit_wide_receivers_grouped = df_2020_pit_wide_receivers.groupby(['name'])\n",
    "\n",
    "print(df_2020_pit_wide_receivers_grouped['receiving_touchdown_rank'].sum().nlargest(10))"
   ]
  },
  {
   "cell_type": "code",
   "execution_count": 69,
   "metadata": {},
   "outputs": [
    {
     "output_type": "stream",
     "name": "stdout",
     "text": [
      "Index(['player_id', 'date', 'week', 'team_x', 'location', 'opponent', 'result',\n       'started', 'rushing_attempts', 'rushing_yards', 'rushing_touchdowns',\n       'pass_targets', 'receptions', 'receiving_yards', 'receiving_touchdowns',\n       'conversions', 'fumbles_lost', 'fumble_touchdowns', 'name', 'team_y',\n       'team_abbr', 'position'],\n      dtype='object')\n"
     ]
    },
    {
     "output_type": "execute_result",
     "data": {
      "text/plain": [
       "          rushing_attempts  rushing_yards  rushing_touchdowns\n",
       "opponent                                                     \n",
       "LVR                    131            634                  10\n",
       "NYJ                    154            643                   9\n",
       "WAS                    153            648                   8\n",
       "MIA                    127            630                   8\n",
       "PHI                    145            571                   8\n",
       "CAR                    123            667                   8\n",
       "DAL                    167            779                   7\n",
       "BUF                    126            543                   7\n",
       "NYG                    149            553                   6\n",
       "DET                    132            681                   6\n",
       "HOU                    169            802                   6\n",
       "SEA                    129            502                   6\n",
       "KAN                    157            788                   5\n",
       "CLE                    112            435                   5\n",
       "GNB                     88            423                   5\n",
       "JAX                    148            683                   5\n",
       "CIN                    154            795                   5\n",
       "ATL                    128            548                   5\n",
       "LAR                    113            532                   5\n",
       "MIN                    148            663                   5\n",
       "NOR                    141            501                   4\n",
       "CHI                    130            566                   4\n",
       "TAM                    108            291                   4\n",
       "SFO                    140            536                   4\n",
       "PIT                     76            256                   3\n",
       "TEN                    108            593                   3\n",
       "ARI                    138            621                   3\n",
       "BAL                    124            462                   3\n",
       "LAC                    123            538                   3\n",
       "DEN                    105            436                   2\n",
       "NWE                    104            461                   1\n",
       "IND                    119            432                   1"
      ],
      "text/html": "<div>\n<style scoped>\n    .dataframe tbody tr th:only-of-type {\n        vertical-align: middle;\n    }\n\n    .dataframe tbody tr th {\n        vertical-align: top;\n    }\n\n    .dataframe thead th {\n        text-align: right;\n    }\n</style>\n<table border=\"1\" class=\"dataframe\">\n  <thead>\n    <tr style=\"text-align: right;\">\n      <th></th>\n      <th>rushing_attempts</th>\n      <th>rushing_yards</th>\n      <th>rushing_touchdowns</th>\n    </tr>\n    <tr>\n      <th>opponent</th>\n      <th></th>\n      <th></th>\n      <th></th>\n    </tr>\n  </thead>\n  <tbody>\n    <tr>\n      <th>LVR</th>\n      <td>131</td>\n      <td>634</td>\n      <td>10</td>\n    </tr>\n    <tr>\n      <th>NYJ</th>\n      <td>154</td>\n      <td>643</td>\n      <td>9</td>\n    </tr>\n    <tr>\n      <th>WAS</th>\n      <td>153</td>\n      <td>648</td>\n      <td>8</td>\n    </tr>\n    <tr>\n      <th>MIA</th>\n      <td>127</td>\n      <td>630</td>\n      <td>8</td>\n    </tr>\n    <tr>\n      <th>PHI</th>\n      <td>145</td>\n      <td>571</td>\n      <td>8</td>\n    </tr>\n    <tr>\n      <th>CAR</th>\n      <td>123</td>\n      <td>667</td>\n      <td>8</td>\n    </tr>\n    <tr>\n      <th>DAL</th>\n      <td>167</td>\n      <td>779</td>\n      <td>7</td>\n    </tr>\n    <tr>\n      <th>BUF</th>\n      <td>126</td>\n      <td>543</td>\n      <td>7</td>\n    </tr>\n    <tr>\n      <th>NYG</th>\n      <td>149</td>\n      <td>553</td>\n      <td>6</td>\n    </tr>\n    <tr>\n      <th>DET</th>\n      <td>132</td>\n      <td>681</td>\n      <td>6</td>\n    </tr>\n    <tr>\n      <th>HOU</th>\n      <td>169</td>\n      <td>802</td>\n      <td>6</td>\n    </tr>\n    <tr>\n      <th>SEA</th>\n      <td>129</td>\n      <td>502</td>\n      <td>6</td>\n    </tr>\n    <tr>\n      <th>KAN</th>\n      <td>157</td>\n      <td>788</td>\n      <td>5</td>\n    </tr>\n    <tr>\n      <th>CLE</th>\n      <td>112</td>\n      <td>435</td>\n      <td>5</td>\n    </tr>\n    <tr>\n      <th>GNB</th>\n      <td>88</td>\n      <td>423</td>\n      <td>5</td>\n    </tr>\n    <tr>\n      <th>JAX</th>\n      <td>148</td>\n      <td>683</td>\n      <td>5</td>\n    </tr>\n    <tr>\n      <th>CIN</th>\n      <td>154</td>\n      <td>795</td>\n      <td>5</td>\n    </tr>\n    <tr>\n      <th>ATL</th>\n      <td>128</td>\n      <td>548</td>\n      <td>5</td>\n    </tr>\n    <tr>\n      <th>LAR</th>\n      <td>113</td>\n      <td>532</td>\n      <td>5</td>\n    </tr>\n    <tr>\n      <th>MIN</th>\n      <td>148</td>\n      <td>663</td>\n      <td>5</td>\n    </tr>\n    <tr>\n      <th>NOR</th>\n      <td>141</td>\n      <td>501</td>\n      <td>4</td>\n    </tr>\n    <tr>\n      <th>CHI</th>\n      <td>130</td>\n      <td>566</td>\n      <td>4</td>\n    </tr>\n    <tr>\n      <th>TAM</th>\n      <td>108</td>\n      <td>291</td>\n      <td>4</td>\n    </tr>\n    <tr>\n      <th>SFO</th>\n      <td>140</td>\n      <td>536</td>\n      <td>4</td>\n    </tr>\n    <tr>\n      <th>PIT</th>\n      <td>76</td>\n      <td>256</td>\n      <td>3</td>\n    </tr>\n    <tr>\n      <th>TEN</th>\n      <td>108</td>\n      <td>593</td>\n      <td>3</td>\n    </tr>\n    <tr>\n      <th>ARI</th>\n      <td>138</td>\n      <td>621</td>\n      <td>3</td>\n    </tr>\n    <tr>\n      <th>BAL</th>\n      <td>124</td>\n      <td>462</td>\n      <td>3</td>\n    </tr>\n    <tr>\n      <th>LAC</th>\n      <td>123</td>\n      <td>538</td>\n      <td>3</td>\n    </tr>\n    <tr>\n      <th>DEN</th>\n      <td>105</td>\n      <td>436</td>\n      <td>2</td>\n    </tr>\n    <tr>\n      <th>NWE</th>\n      <td>104</td>\n      <td>461</td>\n      <td>1</td>\n    </tr>\n    <tr>\n      <th>IND</th>\n      <td>119</td>\n      <td>432</td>\n      <td>1</td>\n    </tr>\n  </tbody>\n</table>\n</div>"
     },
     "metadata": {},
     "execution_count": 69
    }
   ],
   "source": [
    "df_2020_game_logs = df_player_game_logs.loc[df_player_game_logs.index.isin([2020])]\n",
    "print(df_2020_game_logs.columns)\n",
    "\n",
    "df_2020_groupby_opponent = df_2020_game_logs.groupby('opponent')\n",
    "\n",
    "df_2020_groupby_opponent[['rushing_attempts', 'rushing_yards', 'rushing_touchdowns']].sum().sort_values(by='rushing_touchdowns', ascending=False)"
   ]
  }
 ]
}