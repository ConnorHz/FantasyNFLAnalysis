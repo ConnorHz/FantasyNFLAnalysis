{
 "metadata": {
  "language_info": {
   "codemirror_mode": {
    "name": "ipython",
    "version": 3
   },
   "file_extension": ".py",
   "mimetype": "text/x-python",
   "name": "python",
   "nbconvert_exporter": "python",
   "pygments_lexer": "ipython3",
   "version": "3.8.3-final"
  },
  "orig_nbformat": 2,
  "kernelspec": {
   "name": "Python 3.8.3 64-bit ('base': conda)",
   "display_name": "Python 3.8.3 64-bit ('base': conda)",
   "metadata": {
    "interpreter": {
     "hash": "4daf9c02b5623c0360fcfe1d6dda508d767b2df27b9fea1946db53939aeb33a9"
    }
   }
  }
 },
 "nbformat": 4,
 "nbformat_minor": 2,
 "cells": [
  {
   "cell_type": "code",
   "execution_count": 1,
   "metadata": {},
   "outputs": [],
   "source": [
    "import pandas as pd\n",
    "import os\n",
    "import csv"
   ]
  },
  {
   "cell_type": "code",
   "execution_count": 2,
   "metadata": {},
   "outputs": [],
   "source": [
    "def NormalizeStat(stat, min_, max_):\n",
    "    return (stat - min_) / (max_ - min_)"
   ]
  },
  {
   "cell_type": "code",
   "execution_count": 3,
   "metadata": {},
   "outputs": [],
   "source": [
    "df_full_game_log = pd.read_csv(os.path.join('..', \"Resources\", \"full_game_logs.csv\"))\n",
    "df_players = pd.read_csv(os.path.join('..', \"Resources\", \"players.csv\"))\n",
    "\n",
    "df_players.rename(inplace=True, \n",
    "    columns={\n",
    "        'id':'player_id',\n",
    "        'team':'team_name'\n",
    "    })\n",
    "\n",
    "df_full_game_log.rename(inplace=True, \n",
    "    columns={\n",
    "        'year_id':'year',\n",
    "        'gs':'started'\n",
    "    })\n",
    "\n",
    "df_full_game_log.game_location = ['Away' if l == '@' else 'Home' for l in df_full_game_log.game_location]\n",
    "df_full_game_log.started = [True if s == '*' else False for s in df_full_game_log.started]\n",
    "\n",
    "df_player_game_logs = df_full_game_log.merge(df_players.loc[:, ['player_id', 'position', 'team_name']], how='inner', on='player_id')\n",
    "\n",
    "df_player_game_logs = df_player_game_logs.set_index('player_id')\n",
    "\n",
    "df_rb_2020 = df_player_game_logs.loc[(df_player_game_logs['position'] == 'RB') & (df_player_game_logs['year'] == 2020)].dropna(how='all', axis=1)\n",
    "df_qb_2020 = df_player_game_logs.loc[(df_player_game_logs['position'] == 'QB') & (df_player_game_logs['year'] == 2020)].dropna(how='all', axis=1)\n",
    "df_wr_2020 = df_player_game_logs.loc[(df_player_game_logs['position'] == 'WR') & (df_player_game_logs['year'] == 2020)].dropna(how='all', axis=1)\n",
    "df_te_2020 = df_player_game_logs.loc[(df_player_game_logs['position'] == 'WR') & (df_player_game_logs['year'] == 2020)].dropna(how='all', axis=1)\n",
    "\n",
    "common_stats = ['week_num', 'team', 'opp', 'game_location', 'game_result', 'started']\n"
   ]
  },
  {
   "source": [
    "# Running Back Analysis"
   ],
   "cell_type": "markdown",
   "metadata": {}
  },
  {
   "cell_type": "code",
   "execution_count": 4,
   "metadata": {},
   "outputs": [
    {
     "output_type": "execute_result",
     "data": {
      "text/plain": [
       "           week_num team  opp game_location game_result  started  rush_att  \\\n",
       "player_id                                                                    \n",
       "KamaAl00          1  NOR  TAM          Home     W 34-23     True      12.0   \n",
       "KamaAl00          2  NOR  LVR          Away     L 24-34     True      13.0   \n",
       "KamaAl00          3  NOR  GNB          Home     L 30-37    False       6.0   \n",
       "KamaAl00          4  NOR  DET          Away     W 35-29     True      19.0   \n",
       "KamaAl00          5  NOR  LAC          Home     W 30-27     True      11.0   \n",
       "...             ...  ...  ...           ...         ...      ...       ...   \n",
       "ProsC.00          3  HOU  PIT          Away     L 21-28    False       1.0   \n",
       "ProsC.00          4  HOU  MIN          Home     L 23-31    False       0.0   \n",
       "ProsC.00          5  HOU  JAX          Home     W 30-14    False       0.0   \n",
       "ProsC.00          6  HOU  TEN          Away     L 36-42    False       0.0   \n",
       "KillAd00          4  PHI  SFO          Away     W 25-20    False       1.0   \n",
       "\n",
       "           rush_yds  rush_yds_per_att  rush_td  fumbles  two_pt_md  \n",
       "player_id                                                           \n",
       "KamaAl00       16.0              1.33      1.0      0.0        0.0  \n",
       "KamaAl00       79.0              6.08      2.0      0.0        0.0  \n",
       "KamaAl00       58.0              9.67      0.0      0.0        0.0  \n",
       "KamaAl00       83.0              4.37      1.0      0.0        0.0  \n",
       "KamaAl00       45.0              4.09      0.0      0.0        0.0  \n",
       "...             ...               ...      ...      ...        ...  \n",
       "ProsC.00        1.0              1.00      0.0      0.0        0.0  \n",
       "ProsC.00        0.0              0.00      0.0      0.0        0.0  \n",
       "ProsC.00        0.0              0.00      0.0      0.0        0.0  \n",
       "ProsC.00        0.0              0.00      0.0      0.0        0.0  \n",
       "KillAd00      -12.0            -12.00      0.0      0.0        0.0  \n",
       "\n",
       "[604 rows x 12 columns]"
      ],
      "text/html": "<div>\n<style scoped>\n    .dataframe tbody tr th:only-of-type {\n        vertical-align: middle;\n    }\n\n    .dataframe tbody tr th {\n        vertical-align: top;\n    }\n\n    .dataframe thead th {\n        text-align: right;\n    }\n</style>\n<table border=\"1\" class=\"dataframe\">\n  <thead>\n    <tr style=\"text-align: right;\">\n      <th></th>\n      <th>week_num</th>\n      <th>team</th>\n      <th>opp</th>\n      <th>game_location</th>\n      <th>game_result</th>\n      <th>started</th>\n      <th>rush_att</th>\n      <th>rush_yds</th>\n      <th>rush_yds_per_att</th>\n      <th>rush_td</th>\n      <th>fumbles</th>\n      <th>two_pt_md</th>\n    </tr>\n    <tr>\n      <th>player_id</th>\n      <th></th>\n      <th></th>\n      <th></th>\n      <th></th>\n      <th></th>\n      <th></th>\n      <th></th>\n      <th></th>\n      <th></th>\n      <th></th>\n      <th></th>\n      <th></th>\n    </tr>\n  </thead>\n  <tbody>\n    <tr>\n      <th>KamaAl00</th>\n      <td>1</td>\n      <td>NOR</td>\n      <td>TAM</td>\n      <td>Home</td>\n      <td>W 34-23</td>\n      <td>True</td>\n      <td>12.0</td>\n      <td>16.0</td>\n      <td>1.33</td>\n      <td>1.0</td>\n      <td>0.0</td>\n      <td>0.0</td>\n    </tr>\n    <tr>\n      <th>KamaAl00</th>\n      <td>2</td>\n      <td>NOR</td>\n      <td>LVR</td>\n      <td>Away</td>\n      <td>L 24-34</td>\n      <td>True</td>\n      <td>13.0</td>\n      <td>79.0</td>\n      <td>6.08</td>\n      <td>2.0</td>\n      <td>0.0</td>\n      <td>0.0</td>\n    </tr>\n    <tr>\n      <th>KamaAl00</th>\n      <td>3</td>\n      <td>NOR</td>\n      <td>GNB</td>\n      <td>Home</td>\n      <td>L 30-37</td>\n      <td>False</td>\n      <td>6.0</td>\n      <td>58.0</td>\n      <td>9.67</td>\n      <td>0.0</td>\n      <td>0.0</td>\n      <td>0.0</td>\n    </tr>\n    <tr>\n      <th>KamaAl00</th>\n      <td>4</td>\n      <td>NOR</td>\n      <td>DET</td>\n      <td>Away</td>\n      <td>W 35-29</td>\n      <td>True</td>\n      <td>19.0</td>\n      <td>83.0</td>\n      <td>4.37</td>\n      <td>1.0</td>\n      <td>0.0</td>\n      <td>0.0</td>\n    </tr>\n    <tr>\n      <th>KamaAl00</th>\n      <td>5</td>\n      <td>NOR</td>\n      <td>LAC</td>\n      <td>Home</td>\n      <td>W 30-27</td>\n      <td>True</td>\n      <td>11.0</td>\n      <td>45.0</td>\n      <td>4.09</td>\n      <td>0.0</td>\n      <td>0.0</td>\n      <td>0.0</td>\n    </tr>\n    <tr>\n      <th>...</th>\n      <td>...</td>\n      <td>...</td>\n      <td>...</td>\n      <td>...</td>\n      <td>...</td>\n      <td>...</td>\n      <td>...</td>\n      <td>...</td>\n      <td>...</td>\n      <td>...</td>\n      <td>...</td>\n      <td>...</td>\n    </tr>\n    <tr>\n      <th>ProsC.00</th>\n      <td>3</td>\n      <td>HOU</td>\n      <td>PIT</td>\n      <td>Away</td>\n      <td>L 21-28</td>\n      <td>False</td>\n      <td>1.0</td>\n      <td>1.0</td>\n      <td>1.00</td>\n      <td>0.0</td>\n      <td>0.0</td>\n      <td>0.0</td>\n    </tr>\n    <tr>\n      <th>ProsC.00</th>\n      <td>4</td>\n      <td>HOU</td>\n      <td>MIN</td>\n      <td>Home</td>\n      <td>L 23-31</td>\n      <td>False</td>\n      <td>0.0</td>\n      <td>0.0</td>\n      <td>0.00</td>\n      <td>0.0</td>\n      <td>0.0</td>\n      <td>0.0</td>\n    </tr>\n    <tr>\n      <th>ProsC.00</th>\n      <td>5</td>\n      <td>HOU</td>\n      <td>JAX</td>\n      <td>Home</td>\n      <td>W 30-14</td>\n      <td>False</td>\n      <td>0.0</td>\n      <td>0.0</td>\n      <td>0.00</td>\n      <td>0.0</td>\n      <td>0.0</td>\n      <td>0.0</td>\n    </tr>\n    <tr>\n      <th>ProsC.00</th>\n      <td>6</td>\n      <td>HOU</td>\n      <td>TEN</td>\n      <td>Away</td>\n      <td>L 36-42</td>\n      <td>False</td>\n      <td>0.0</td>\n      <td>0.0</td>\n      <td>0.00</td>\n      <td>0.0</td>\n      <td>0.0</td>\n      <td>0.0</td>\n    </tr>\n    <tr>\n      <th>KillAd00</th>\n      <td>4</td>\n      <td>PHI</td>\n      <td>SFO</td>\n      <td>Away</td>\n      <td>W 25-20</td>\n      <td>False</td>\n      <td>1.0</td>\n      <td>-12.0</td>\n      <td>-12.00</td>\n      <td>0.0</td>\n      <td>0.0</td>\n      <td>0.0</td>\n    </tr>\n  </tbody>\n</table>\n<p>604 rows × 12 columns</p>\n</div>"
     },
     "metadata": {},
     "execution_count": 4
    }
   ],
   "source": [
    "rb_stats = ['rush_att', 'rush_yds', 'rush_yds_per_att', 'rush_td', 'fumbles', 'two_pt_md']\n",
    "rb_stats = common_stats + rb_stats\n",
    "df_rb_2020_reduced = df_rb_2020.loc[:, rb_stats].fillna(0)\n",
    "\n",
    "df_rb_2020_reduced\n"
   ]
  },
  {
   "cell_type": "code",
   "execution_count": null,
   "metadata": {},
   "outputs": [],
   "source": []
  }
 ]
}