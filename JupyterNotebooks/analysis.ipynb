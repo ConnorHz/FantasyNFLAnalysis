{
 "metadata": {
  "language_info": {
   "codemirror_mode": {
    "name": "ipython",
    "version": 3
   },
   "file_extension": ".py",
   "mimetype": "text/x-python",
   "name": "python",
   "nbconvert_exporter": "python",
   "pygments_lexer": "ipython3",
   "version": "3.8.3-final"
  },
  "orig_nbformat": 2,
  "kernelspec": {
   "name": "Python 3.8.3 64-bit ('base': conda)",
   "display_name": "Python 3.8.3 64-bit ('base': conda)",
   "metadata": {
    "interpreter": {
     "hash": "4daf9c02b5623c0360fcfe1d6dda508d767b2df27b9fea1946db53939aeb33a9"
    }
   }
  }
 },
 "nbformat": 4,
 "nbformat_minor": 2,
 "cells": [
  {
   "cell_type": "code",
   "execution_count": 1,
   "metadata": {},
   "outputs": [],
   "source": [
    "import pandas as pd\n",
    "import os\n",
    "import csv"
   ]
  },
  {
   "cell_type": "code",
   "execution_count": 2,
   "metadata": {},
   "outputs": [],
   "source": [
    "def NormalizeStat(stat, min_, max_):\n",
    "    return (stat - min_) / (max_ - min_)"
   ]
  },
  {
   "cell_type": "code",
   "execution_count": 85,
   "metadata": {},
   "outputs": [],
   "source": [
    "df_full_game_log = pd.read_csv(os.path.join('..', \"Resources\", \"full_game_logs.csv\"))\n",
    "df_players = pd.read_csv(os.path.join('..', \"Resources\", \"players.csv\"))\n",
    "\n",
    "df_players.rename(inplace=True, \n",
    "    columns={\n",
    "        'id':'player_id',\n",
    "        'team':'team_name'\n",
    "    })\n",
    "\n",
    "df_full_game_log.rename(inplace=True, \n",
    "    columns={\n",
    "        'year_id':'year',\n",
    "        'gs':'started'\n",
    "    })\n",
    "\n",
    "df_full_game_log.game_location = ['Away' if l == '@' else 'Home' for l in df_full_game_log.game_location]\n",
    "df_full_game_log.started = [True if s == '*' else False for s in df_full_game_log.started]\n",
    "\n",
    "df_player_game_logs = df_full_game_log.merge(df_players.loc[:, ['player_id', 'position', 'team_name']], how='inner', on='player_id')\n",
    "\n",
    "df_player_game_logs_2020 = df_player_game_logs.loc[(df_player_game_logs['year'] == 2020)]\n",
    "\n",
    "df_rb_2020 = df_player_game_logs_2020.loc[(df_player_game_logs['position'] == 'RB')].dropna(how='all', axis=1).set_index('player_id')\n",
    "df_qb_2020 = df_player_game_logs_2020.loc[(df_player_game_logs['position'] == 'QB')].dropna(how='all', axis=1).set_index('player_id')\n",
    "df_wr_2020 = df_player_game_logs_2020.loc[(df_player_game_logs['position'] == 'WR')].dropna(how='all', axis=1).set_index('player_id')\n",
    "df_te_2020 = df_player_game_logs_2020.loc[(df_player_game_logs['position'] == 'WR')].dropna(how='all', axis=1).set_index('player_id')\n",
    "\n",
    "common_stats = ['week_num', 'team', 'opp', 'game_location', 'game_result', 'started']\n"
   ]
  },
  {
   "cell_type": "code",
   "execution_count": 95,
   "metadata": {},
   "outputs": [
    {
     "output_type": "execute_result",
     "data": {
      "text/plain": [
       "      games_played  rush_yds_allowed  avg_rush_yds_allowed_per_game\n",
       "team                                                               \n",
       "TAM              6             385.0                            8.0\n",
       "LVR              5             634.0                           14.0\n",
       "GNB              5             579.0                           14.0\n",
       "DET              5             725.0                           19.0\n",
       "LAC              5             538.0                           13.0\n",
       "ATL              6             580.0                           13.0\n",
       "NWE              5             596.0                           17.0\n",
       "DAL              6            1040.0                           20.0\n",
       "MIA              6             745.0                           15.0\n",
       "MIN              6             762.0                           15.0\n",
       "IND              6             530.0                           11.0\n",
       "TEN              5             685.0                           19.0\n",
       "HOU              6            1065.0                           22.0\n",
       "SEA              5             502.0                           13.0\n",
       "BAL              6             656.0                           14.0\n",
       "BUF              6             788.0                           17.0\n",
       "LAR              6             654.0                           16.0\n",
       "CLE              6             567.0                           12.0\n",
       "NYG              6             639.0                           13.0\n",
       "ARI              6             705.0                           16.0\n",
       "NOR              5             501.0                           13.0\n",
       "SFO              6             649.0                           14.0\n",
       "WAS              6             780.0                           17.0\n",
       "CAR              6             730.0                           15.0\n",
       "NYJ              6             753.0                           16.0\n",
       "CHI              6             678.0                           15.0\n",
       "CIN              6             854.0                           18.0\n",
       "PIT              5             331.0                            8.0\n",
       "KAN              6             872.0                           18.0\n",
       "DEN              5             553.0                           13.0\n",
       "PHI              6             753.0                           15.0\n",
       "JAX              6             863.0                           18.0"
      ],
      "text/html": "<div>\n<style scoped>\n    .dataframe tbody tr th:only-of-type {\n        vertical-align: middle;\n    }\n\n    .dataframe tbody tr th {\n        vertical-align: top;\n    }\n\n    .dataframe thead th {\n        text-align: right;\n    }\n</style>\n<table border=\"1\" class=\"dataframe\">\n  <thead>\n    <tr style=\"text-align: right;\">\n      <th></th>\n      <th>games_played</th>\n      <th>rush_yds_allowed</th>\n      <th>avg_rush_yds_allowed_per_game</th>\n    </tr>\n    <tr>\n      <th>team</th>\n      <th></th>\n      <th></th>\n      <th></th>\n    </tr>\n  </thead>\n  <tbody>\n    <tr>\n      <th>TAM</th>\n      <td>6</td>\n      <td>385.0</td>\n      <td>8.0</td>\n    </tr>\n    <tr>\n      <th>LVR</th>\n      <td>5</td>\n      <td>634.0</td>\n      <td>14.0</td>\n    </tr>\n    <tr>\n      <th>GNB</th>\n      <td>5</td>\n      <td>579.0</td>\n      <td>14.0</td>\n    </tr>\n    <tr>\n      <th>DET</th>\n      <td>5</td>\n      <td>725.0</td>\n      <td>19.0</td>\n    </tr>\n    <tr>\n      <th>LAC</th>\n      <td>5</td>\n      <td>538.0</td>\n      <td>13.0</td>\n    </tr>\n    <tr>\n      <th>ATL</th>\n      <td>6</td>\n      <td>580.0</td>\n      <td>13.0</td>\n    </tr>\n    <tr>\n      <th>NWE</th>\n      <td>5</td>\n      <td>596.0</td>\n      <td>17.0</td>\n    </tr>\n    <tr>\n      <th>DAL</th>\n      <td>6</td>\n      <td>1040.0</td>\n      <td>20.0</td>\n    </tr>\n    <tr>\n      <th>MIA</th>\n      <td>6</td>\n      <td>745.0</td>\n      <td>15.0</td>\n    </tr>\n    <tr>\n      <th>MIN</th>\n      <td>6</td>\n      <td>762.0</td>\n      <td>15.0</td>\n    </tr>\n    <tr>\n      <th>IND</th>\n      <td>6</td>\n      <td>530.0</td>\n      <td>11.0</td>\n    </tr>\n    <tr>\n      <th>TEN</th>\n      <td>5</td>\n      <td>685.0</td>\n      <td>19.0</td>\n    </tr>\n    <tr>\n      <th>HOU</th>\n      <td>6</td>\n      <td>1065.0</td>\n      <td>22.0</td>\n    </tr>\n    <tr>\n      <th>SEA</th>\n      <td>5</td>\n      <td>502.0</td>\n      <td>13.0</td>\n    </tr>\n    <tr>\n      <th>BAL</th>\n      <td>6</td>\n      <td>656.0</td>\n      <td>14.0</td>\n    </tr>\n    <tr>\n      <th>BUF</th>\n      <td>6</td>\n      <td>788.0</td>\n      <td>17.0</td>\n    </tr>\n    <tr>\n      <th>LAR</th>\n      <td>6</td>\n      <td>654.0</td>\n      <td>16.0</td>\n    </tr>\n    <tr>\n      <th>CLE</th>\n      <td>6</td>\n      <td>567.0</td>\n      <td>12.0</td>\n    </tr>\n    <tr>\n      <th>NYG</th>\n      <td>6</td>\n      <td>639.0</td>\n      <td>13.0</td>\n    </tr>\n    <tr>\n      <th>ARI</th>\n      <td>6</td>\n      <td>705.0</td>\n      <td>16.0</td>\n    </tr>\n    <tr>\n      <th>NOR</th>\n      <td>5</td>\n      <td>501.0</td>\n      <td>13.0</td>\n    </tr>\n    <tr>\n      <th>SFO</th>\n      <td>6</td>\n      <td>649.0</td>\n      <td>14.0</td>\n    </tr>\n    <tr>\n      <th>WAS</th>\n      <td>6</td>\n      <td>780.0</td>\n      <td>17.0</td>\n    </tr>\n    <tr>\n      <th>CAR</th>\n      <td>6</td>\n      <td>730.0</td>\n      <td>15.0</td>\n    </tr>\n    <tr>\n      <th>NYJ</th>\n      <td>6</td>\n      <td>753.0</td>\n      <td>16.0</td>\n    </tr>\n    <tr>\n      <th>CHI</th>\n      <td>6</td>\n      <td>678.0</td>\n      <td>15.0</td>\n    </tr>\n    <tr>\n      <th>CIN</th>\n      <td>6</td>\n      <td>854.0</td>\n      <td>18.0</td>\n    </tr>\n    <tr>\n      <th>PIT</th>\n      <td>5</td>\n      <td>331.0</td>\n      <td>8.0</td>\n    </tr>\n    <tr>\n      <th>KAN</th>\n      <td>6</td>\n      <td>872.0</td>\n      <td>18.0</td>\n    </tr>\n    <tr>\n      <th>DEN</th>\n      <td>5</td>\n      <td>553.0</td>\n      <td>13.0</td>\n    </tr>\n    <tr>\n      <th>PHI</th>\n      <td>6</td>\n      <td>753.0</td>\n      <td>15.0</td>\n    </tr>\n    <tr>\n      <th>JAX</th>\n      <td>6</td>\n      <td>863.0</td>\n      <td>18.0</td>\n    </tr>\n  </tbody>\n</table>\n</div>"
     },
     "metadata": {},
     "execution_count": 95
    }
   ],
   "source": [
    "df_teams_2020 = pd.DataFrame({\n",
    "    'team': df_player_game_logs_2020['opp'].unique()\n",
    "})\n",
    "\n",
    "df_teams_2020.set_index('team', inplace=True)\n",
    "\n",
    "dfgb_2020_opp_results = df_player_game_logs_2020.groupby('opp')\n",
    "\n",
    "df_teams_2020['games_played'] = dfgb_2020_opp_results['game_date'].nunique()\n",
    "df_teams_2020['rush_yds_allowed'] = dfgb_2020_opp_results['rush_yds'].sum()\n",
    "df_teams_2020['avg_rush_yds_allowed_per_game'] = round(dfgb_2020_opp_results['rush_yds'].mean())\n",
    "\n",
    "df_teams_2020"
   ]
  },
  {
   "source": [
    "# Running Back Analysis"
   ],
   "cell_type": "markdown",
   "metadata": {}
  },
  {
   "cell_type": "code",
   "execution_count": 55,
   "metadata": {},
   "outputs": [
    {
     "output_type": "execute_result",
     "data": {
      "text/plain": [
       "           count        mean        std   min    25%    50%    75%    max\n",
       "player_id                                                                \n",
       "HenrDe00     5.0  117.600000  58.560225  57.0  84.00  116.0  119.0  212.0\n",
       "CookDa01     5.0   97.800000  55.970528  50.0  63.00   65.0  130.0  181.0\n",
       "SandMi01     5.0   86.800000  26.546186  46.0  80.00   95.0   95.0  118.0\n",
       "EdwaCl00     6.0   84.166667  52.338959  38.0  46.00   64.0  119.5  161.0\n",
       "ChubNi00     4.0   83.750000  38.439346  43.0  55.75   84.0  112.0  124.0\n",
       "...          ...         ...        ...   ...    ...    ...    ...    ...\n",
       "SherAn00     5.0    0.400000   0.894427   0.0   0.00    0.0    0.0    2.0\n",
       "ProsC.00     5.0    0.200000   0.447214   0.0   0.00    0.0    0.0    1.0\n",
       "RicaPa00     6.0   -0.166667   0.408248  -1.0   0.00    0.0    0.0    0.0\n",
       "McCoLe01     5.0   -0.200000   2.949576  -5.0   0.00    0.0    1.0    3.0\n",
       "IngoAl01     5.0   -0.200000   0.447214  -1.0   0.00    0.0    0.0    0.0\n",
       "\n",
       "[94 rows x 8 columns]"
      ],
      "text/html": "<div>\n<style scoped>\n    .dataframe tbody tr th:only-of-type {\n        vertical-align: middle;\n    }\n\n    .dataframe tbody tr th {\n        vertical-align: top;\n    }\n\n    .dataframe thead th {\n        text-align: right;\n    }\n</style>\n<table border=\"1\" class=\"dataframe\">\n  <thead>\n    <tr style=\"text-align: right;\">\n      <th></th>\n      <th>count</th>\n      <th>mean</th>\n      <th>std</th>\n      <th>min</th>\n      <th>25%</th>\n      <th>50%</th>\n      <th>75%</th>\n      <th>max</th>\n    </tr>\n    <tr>\n      <th>player_id</th>\n      <th></th>\n      <th></th>\n      <th></th>\n      <th></th>\n      <th></th>\n      <th></th>\n      <th></th>\n      <th></th>\n    </tr>\n  </thead>\n  <tbody>\n    <tr>\n      <th>HenrDe00</th>\n      <td>5.0</td>\n      <td>117.600000</td>\n      <td>58.560225</td>\n      <td>57.0</td>\n      <td>84.00</td>\n      <td>116.0</td>\n      <td>119.0</td>\n      <td>212.0</td>\n    </tr>\n    <tr>\n      <th>CookDa01</th>\n      <td>5.0</td>\n      <td>97.800000</td>\n      <td>55.970528</td>\n      <td>50.0</td>\n      <td>63.00</td>\n      <td>65.0</td>\n      <td>130.0</td>\n      <td>181.0</td>\n    </tr>\n    <tr>\n      <th>SandMi01</th>\n      <td>5.0</td>\n      <td>86.800000</td>\n      <td>26.546186</td>\n      <td>46.0</td>\n      <td>80.00</td>\n      <td>95.0</td>\n      <td>95.0</td>\n      <td>118.0</td>\n    </tr>\n    <tr>\n      <th>EdwaCl00</th>\n      <td>6.0</td>\n      <td>84.166667</td>\n      <td>52.338959</td>\n      <td>38.0</td>\n      <td>46.00</td>\n      <td>64.0</td>\n      <td>119.5</td>\n      <td>161.0</td>\n    </tr>\n    <tr>\n      <th>ChubNi00</th>\n      <td>4.0</td>\n      <td>83.750000</td>\n      <td>38.439346</td>\n      <td>43.0</td>\n      <td>55.75</td>\n      <td>84.0</td>\n      <td>112.0</td>\n      <td>124.0</td>\n    </tr>\n    <tr>\n      <th>...</th>\n      <td>...</td>\n      <td>...</td>\n      <td>...</td>\n      <td>...</td>\n      <td>...</td>\n      <td>...</td>\n      <td>...</td>\n      <td>...</td>\n    </tr>\n    <tr>\n      <th>SherAn00</th>\n      <td>5.0</td>\n      <td>0.400000</td>\n      <td>0.894427</td>\n      <td>0.0</td>\n      <td>0.00</td>\n      <td>0.0</td>\n      <td>0.0</td>\n      <td>2.0</td>\n    </tr>\n    <tr>\n      <th>ProsC.00</th>\n      <td>5.0</td>\n      <td>0.200000</td>\n      <td>0.447214</td>\n      <td>0.0</td>\n      <td>0.00</td>\n      <td>0.0</td>\n      <td>0.0</td>\n      <td>1.0</td>\n    </tr>\n    <tr>\n      <th>RicaPa00</th>\n      <td>6.0</td>\n      <td>-0.166667</td>\n      <td>0.408248</td>\n      <td>-1.0</td>\n      <td>0.00</td>\n      <td>0.0</td>\n      <td>0.0</td>\n      <td>0.0</td>\n    </tr>\n    <tr>\n      <th>McCoLe01</th>\n      <td>5.0</td>\n      <td>-0.200000</td>\n      <td>2.949576</td>\n      <td>-5.0</td>\n      <td>0.00</td>\n      <td>0.0</td>\n      <td>1.0</td>\n      <td>3.0</td>\n    </tr>\n    <tr>\n      <th>IngoAl01</th>\n      <td>5.0</td>\n      <td>-0.200000</td>\n      <td>0.447214</td>\n      <td>-1.0</td>\n      <td>0.00</td>\n      <td>0.0</td>\n      <td>0.0</td>\n      <td>0.0</td>\n    </tr>\n  </tbody>\n</table>\n<p>94 rows × 8 columns</p>\n</div>"
     },
     "metadata": {},
     "execution_count": 55
    }
   ],
   "source": [
    "rb_stats = ['rush_att', 'rush_yds', 'rush_yds_per_att', 'rush_td', 'fumbles', 'two_pt_md']\n",
    "rb_stats = common_stats + rb_stats\n",
    "\n",
    "df_rb_2020_gb = df_rb_2020.groupby(['player_id'])\n",
    "\n",
    "df_rb_2020['starts'] = df_rb_2020_gb['started'].count()\n",
    "df_rb_2020['total_rush_att'] = df_rb_2020_gb['rush_att'].sum()\n",
    "\n",
    "df_rb_2020_reduced = df_rb_2020.loc[(df_rb_2020.starts >= 4) & (df_rb_2020.total_rush_att> 0), rb_stats].fillna(0)\n",
    "\n",
    "\n",
    "df_rb_2020_reduced.groupby('player_id').describe()['rush_yds'].sort_values('mean', ascending=False)\n"
   ]
  }
 ]
}